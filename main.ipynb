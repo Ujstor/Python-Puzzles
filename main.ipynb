{
 "cells": [
  {
   "attachments": {},
   "cell_type": "markdown",
   "metadata": {},
   "source": [
    "##### 1. Write a Python program to find a list of integers with exactly two occurrences of nineteen and at least three occurrences of five. Return True otherwise False.\n",
    "- Input:\n",
    "[19, 19, 15, 5, 3, 5, 5, 2]\n",
    "Output:\n",
    "True\n",
    "- Input:\n",
    "[19, 15, 15, 5, 3, 3, 5, 2]\n",
    "Output:\n",
    "False\n",
    "- Input:\n",
    "[19, 19, 5, 5, 5, 5, 5]\n",
    "Output:\n",
    "True"
   ]
  },
  {
   "cell_type": "code",
   "execution_count": 108,
   "metadata": {},
   "outputs": [
    {
     "name": "stdout",
     "output_type": "stream",
     "text": [
      "False\n"
     ]
    }
   ],
   "source": [
    "input = [19, 19, 5, 5, 5, 5, 5]\n",
    "\n",
    "control_list = []\n",
    "for i in input:\n",
    "    if i == 19:\n",
    "      control_list.append(i)\n",
    "    if i == 5:\n",
    "      control_list.append(i)\n",
    "\n",
    "if control_list == [19, 19, 5, 5, 5]:\n",
    "    print(\"True\")\n",
    "else:\n",
    "   print(\"False\")\n",
    "\n",
    "#doesn't work for last example"
   ]
  },
  {
   "cell_type": "code",
   "execution_count": 109,
   "metadata": {},
   "outputs": [
    {
     "name": "stdout",
     "output_type": "stream",
     "text": [
      "True\n",
      "False\n",
      "True\n"
     ]
    }
   ],
   "source": [
    "def test(input):\n",
    "    if input.count(19) == 2 and input.count(5) >= 3:\n",
    "        print(\"True\")\n",
    "    else:\n",
    "        print(\"False\")\n",
    "\n",
    "input = [[19, 19, 15, 5, 3, 5, 5, 2],\n",
    "         [19, 15, 15, 5, 3, 3, 5, 2],\n",
    "         [19, 19, 5, 5, 5, 5, 5]]\n",
    "\n",
    "for i in input:\n",
    "    test(i)\n"
   ]
  },
  {
   "attachments": {},
   "cell_type": "markdown",
   "metadata": {},
   "source": [
    "##### 2. Write a Python program that accepts a list of integers and calculates the length and the fifth element. Return true if the length of the list is 8 and the fifth element occurs thrice in the said list.\n",
    "- Input:\n",
    "[19, 19, 15, 5, 5, 5, 1, 2]\n",
    "Output:\n",
    "True\n",
    "- Input:\n",
    "[19, 15, 5, 7, 5, 5, 2]\n",
    "Output:\n",
    "False\n",
    "- Input:\n",
    "[11, 12, 14, 13, 14, 13, 15, 14]\n",
    "Output:\n",
    "True\n",
    "- Input:\n",
    "[19, 15, 11, 7, 5, 6, 2]\n",
    "Output:\n",
    "False"
   ]
  },
  {
   "cell_type": "code",
   "execution_count": 110,
   "metadata": {},
   "outputs": [
    {
     "name": "stdout",
     "output_type": "stream",
     "text": [
      "True\n",
      "False\n",
      "True\n",
      "False\n"
     ]
    }
   ],
   "source": [
    "def test(x):\n",
    "    fifth_element = x[4]\n",
    "    if len(x) == 8 and x.count(fifth_element) == 3:\n",
    "        return True\n",
    "    else:\n",
    "        return False\n",
    "\n",
    "input = [[19, 19, 15, 5, 5, 5, 1, 2],\n",
    "         [19, 15, 5, 7, 5, 5, 2],\n",
    "         [11, 12, 14, 13, 14, 13, 15, 14],\n",
    "          [19, 15, 11, 7, 5, 6, 2]]\n",
    "\n",
    "for i in input:\n",
    "    print(test(i))"
   ]
  },
  {
   "attachments": {},
   "cell_type": "markdown",
   "metadata": {},
   "source": [
    "##### 3. Write a Python program that accepts an integer and determines whether it is greater than 4^4 and which is 4 mod 34\n",
    "- Input:\n",
    "922\n",
    "Output:\n",
    "True\n",
    "- Input:\n",
    "914\n",
    "Output:\n",
    "False\n",
    "- Input:\n",
    "854\n",
    "Output:\n",
    "True\n",
    "- Input:\n",
    "854\n",
    "Output:\n",
    "True\n",
    "<br>\n",
    "<br>\n",
    "![](https://i.imgur.com/mDHwAkV.png) ![](https://i.imgur.com/AjQ0K6H.png)\n"
   ]
  },
  {
   "cell_type": "code",
   "execution_count": 111,
   "metadata": {},
   "outputs": [
    {
     "name": "stdout",
     "output_type": "stream",
     "text": [
      "True\n",
      "False\n",
      "True\n",
      "True\n"
     ]
    }
   ],
   "source": [
    "def check_integer(num):\n",
    "    if num > 4**4 and num % 34 == 4:\n",
    "        return True\n",
    "    else:\n",
    "        return False\n",
    "\n",
    "num = [922, 914, 854, 854]\n",
    "for i in num:\n",
    "    print(check_integer(i))\n"
   ]
  },
  {
   "attachments": {},
   "cell_type": "markdown",
   "metadata": {},
   "source": [
    "##### 4. We are making n stone piles! The first pile has n stones. If n is even, then all piles have an even number of stones. If n is odd, all piles have an odd number of stones. Each pile must more stones than the previous pile but as few as possible. Write a Python program to find the number of stones in each pile.\n",
    "- Input: 2\n",
    "Output:\n",
    "[2, 4]\n",
    "- Input: 10\n",
    "Output:\n",
    "[10, 12, 14, 16, 18, 20, 22, 24, 26, 28]\n",
    "- Input: 3\n",
    "Output:\n",
    "[3, 5, 7]\n",
    "- Input: 17\n",
    "Output:\n",
    "[17, 19, 21, 23, 25, 27, 29, 31, 33, 35, 37, 39, 41, 43, 45, 47, 49]\n",
    "<br>\n",
    "<br>\n",
    "![](https://i.imgur.com/WpDGJ1S.png) ![](https://i.imgur.com/UhtNyOh.png)"
   ]
  },
  {
   "cell_type": "code",
   "execution_count": 112,
   "metadata": {},
   "outputs": [
    {
     "name": "stdout",
     "output_type": "stream",
     "text": [
      "[2, 4]\n",
      "[10, 12, 14, 16, 18, 20, 22, 24, 26, 28]\n",
      "[3, 4, 6]\n",
      "[17, 18, 20, 22, 24, 26, 28, 30, 32, 34, 36, 38, 40, 42, 44, 46, 48]\n"
     ]
    }
   ],
   "source": [
    "def generate_stone_piles(n):\n",
    "    piles = [n]\n",
    "    for i in range(1, n):\n",
    "        if n % 2 == 0:\n",
    "            pile_size = n + (2 * i)\n",
    "        else:\n",
    "            pile_size = n + (2 * i) - 1\n",
    "        piles.append(pile_size)\n",
    "    return piles\n",
    "\n",
    "n = [2, 10, 3, 17]\n",
    "for i in n:\n",
    "    print(generate_stone_piles(i))"
   ]
  },
  {
   "attachments": {},
   "cell_type": "markdown",
   "metadata": {},
   "source": [
    "##### 5. Write a Python program to check the nth-1 string is a proper substring of the nth string in a given list of strings.\n",
    "- Input:\n",
    "['a', 'abb', 'sfs', 'oo', 'de', 'sfde']\n",
    "Output:\n",
    "True\n",
    "- Input:\n",
    "['a', 'abb', 'sfs', 'oo', 'ee', 'sfde']\n",
    "Output:\n",
    "False\n",
    "- Input:\n",
    "Output:\n",
    "['a', 'abb', 'sad', 'ooaaesdfe', 'sfsdfde', 'sfsd', 'sfsdf', 'qwrew']\n",
    "False\n",
    "- Input:\n",
    "['a', 'abb', 'sad', 'ooaaesdfe', 'sfsdfde', 'sfsd', 'sfsdf', 'qwsfsdfrew']\n",
    "Output:\n",
    "True\n",
    "<br>\n",
    "<br>\n",
    "![](https://i.imgur.com/uHWBn58.png)"
   ]
  },
  {
   "cell_type": "code",
   "execution_count": 113,
   "metadata": {},
   "outputs": [
    {
     "name": "stdout",
     "output_type": "stream",
     "text": [
      "True\n",
      "False\n",
      "False\n",
      "True\n"
     ]
    }
   ],
   "source": [
    "def test(lst):\n",
    "    if lst[-2] in lst[-1]:\n",
    "        return True\n",
    "    else:\n",
    "        return False\n",
    "\n",
    "\n",
    "lst = [['a', 'abb', 'sfs', 'oo', 'de', 'sfde'],\n",
    "        ['a', 'abb', 'sfs', 'oo', 'ee', 'sfde'],\n",
    "        ['a', 'abb', 'sad', 'ooaaesdfe', 'sfsdfde', 'sfsd', 'sfsdf', 'qwrew'],\n",
    "        ['a', 'abb', 'sad', 'ooaaesdfe', 'sfsdfde', 'sfsd', 'sfsdf', 'qwsfsdfrew']]\n",
    "\n",
    "for i in lst:\n",
    "    print(test(i))\n"
   ]
  },
  {
   "attachments": {},
   "cell_type": "markdown",
   "metadata": {},
   "source": [
    "##### 6. Write a Python program to test a list of one hundred integers between 0 and 999, which all differ by ten from one another. Return True otherwise False.\n",
    "- Input:\n",
    "[0, 10, 20, 30, 40, 50, 60, 70, 80, 90, 100, 110, 120, 130, 140, 150, 160, 170, 180, 190, 200, 210, 220, 230, 240, 250, 260, 270, 280, 290, 300, 310, 320, 330, 340, 350, 360, 370, 380, 390, 400, 410, 420, 430, 440, 450, 460, 470, 480, 490, 500, 510, 520, 530, 540, 550, 560, 570, 580, 590, 600, 610, 620, 630, 640, 650, 660, 670, 680, 690, 700, 710, 720, 730, 740, 750, 760, 770, 780, 790, 800, 810, 820, 830, 840, 850, 860, 870, 880, 890, 900, 910, 920, 930, 940, 950, 960, 970, 980, 990]\n",
    "Output:\n",
    "True\n",
    "- Input:\n",
    "[0, 20, 40, 60, 80, 100, 120, 140, 160, 180, 200, 220, 240, 260, 280, 300, 320, 340, 360, 380, 400, 420, 440, 460, 480, 500, 520, 540, 560, 580, 600, 620, 640, 660, 680, 700, 720, 740, 760, 780, 800, 820, 840, 860, 880, 900, 920, 940, 960, 980]\n",
    "Output:\n",
    "False"
   ]
  },
  {
   "cell_type": "markdown",
   "metadata": {},
   "source": []
  },
  {
   "cell_type": "code",
   "execution_count": 114,
   "metadata": {},
   "outputs": [
    {
     "name": "stdout",
     "output_type": "stream",
     "text": [
      "True\n",
      "False\n"
     ]
    }
   ],
   "source": [
    "def check_list10(lst):\n",
    "    for i in range(len(lst)-1):\n",
    "        if lst[i] + 10 != lst[i+1]:\n",
    "            return False\n",
    "    return True\n",
    "\n",
    "\n",
    "\n",
    "list = [[0, 10, 20, 30, 40, 50, 60, 70, 80, 90, 100, 110, 120, 130, 140, 150, 160, 170, 180, 190, 200, 210, 220, 230, 240, 250, 260, 270, 280, 290, 300, 310, 320, 330, 340, 350, 360, 370, 380, 390, 400, 410, 420, 430, 440, 450, 460, 470, 480, 490, 500, 510, 520, 530, 540, 550, 560, 570, 580, 590, 600, 610, 620, 630, 640, 650, 660, 670, 680, 690, 700, 710, 720, 730, 740, 750, 760, 770, 780, 790, 800, 810, 820, 830, 840, 850, 860, 870, 880, 890, 900, 910, 920, 930, 940, 950, 960, 970, 980, 990],\n",
    "        [0, 20, 40, 60, 80, 100, 120, 140, 160, 180, 200, 220, 240, 260, 280, 300, 320, 340, 360, 380, 400, 420, 440, 460, 480, 500, 520, 540, 560, 580, 600, 620, 640, 660, 680, 700, 720, 740, 760, 780, 800, 820, 840, 860, 880, 900, 920, 940, 960, 980]]\n",
    "\n",
    "for i in list:\n",
    "    print(check_list10(i))"
   ]
  }
 ],
 "metadata": {
  "kernelspec": {
   "display_name": "Python 3 (ipykernel)",
   "language": "python",
   "name": "python3"
  },
  "language_info": {
   "codemirror_mode": {
    "name": "ipython",
    "version": 3
   },
   "file_extension": ".py",
   "mimetype": "text/x-python",
   "name": "python",
   "nbconvert_exporter": "python",
   "pygments_lexer": "ipython3",
   "version": "3.10.10"
  },
  "orig_nbformat": 4
 },
 "nbformat": 4,
 "nbformat_minor": 2
}
