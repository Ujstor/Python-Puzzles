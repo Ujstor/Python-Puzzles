{
 "cells": [
  {
   "attachments": {},
   "cell_type": "markdown",
   "metadata": {},
   "source": [
    "##### 1. Write a Python program to find a list of integers with exactly two occurrences of nineteen and at least three occurrences of five. Return True otherwise False.\n",
    "- Input:\n",
    "[19, 19, 15, 5, 3, 5, 5, 2]\n",
    "Output:\n",
    "True\n",
    "- Input:\n",
    "[19, 15, 15, 5, 3, 3, 5, 2]\n",
    "Output:\n",
    "False\n",
    "- Input:\n",
    "[19, 19, 5, 5, 5, 5, 5]\n",
    "Output:\n",
    "True"
   ]
  },
  {
   "cell_type": "code",
   "execution_count": 77,
   "metadata": {},
   "outputs": [
    {
     "name": "stdout",
     "output_type": "stream",
     "text": [
      "False\n"
     ]
    }
   ],
   "source": [
    "input = [19, 19, 5, 5, 5, 5, 5]\n",
    "\n",
    "control_list = []\n",
    "for i in input:\n",
    "    if i == 19:\n",
    "      control_list.append(i)\n",
    "    if i == 5:\n",
    "      control_list.append(i)\n",
    "\n",
    "if control_list == [19, 19, 5, 5, 5]:\n",
    "    print(\"True\")\n",
    "else:\n",
    "   print(\"False\")\n",
    "\n",
    "#doesn't work for last example"
   ]
  },
  {
   "cell_type": "code",
   "execution_count": 78,
   "metadata": {},
   "outputs": [
    {
     "name": "stdout",
     "output_type": "stream",
     "text": [
      "True\n",
      "False\n",
      "True\n"
     ]
    }
   ],
   "source": [
    "def test(input):\n",
    "    if input.count(19) == 2 and input.count(5) >= 3:\n",
    "        print(\"True\")\n",
    "    else:\n",
    "        print(\"False\")\n",
    "\n",
    "input = [[19, 19, 15, 5, 3, 5, 5, 2],\n",
    "         [19, 15, 15, 5, 3, 3, 5, 2],\n",
    "         [19, 19, 5, 5, 5, 5, 5]]\n",
    "\n",
    "for i in input:\n",
    "    test(i)\n"
   ]
  },
  {
   "attachments": {},
   "cell_type": "markdown",
   "metadata": {},
   "source": [
    "##### 2. Write a Python program that accepts a list of integers and calculates the length and the fifth element. Return true if the length of the list is 8 and the fifth element occurs thrice in the said list.\n",
    "- Input:\n",
    "[19, 19, 15, 5, 5, 5, 1, 2]\n",
    "Output:\n",
    "True\n",
    "- Input:\n",
    "[19, 15, 5, 7, 5, 5, 2]\n",
    "Output:\n",
    "False\n",
    "- Input:\n",
    "[11, 12, 14, 13, 14, 13, 15, 14]\n",
    "Output:\n",
    "True\n",
    "- Input:\n",
    "[19, 15, 11, 7, 5, 6, 2]\n",
    "Output:\n",
    "False"
   ]
  },
  {
   "cell_type": "code",
   "execution_count": 79,
   "metadata": {},
   "outputs": [
    {
     "name": "stdout",
     "output_type": "stream",
     "text": [
      "True\n",
      "False\n",
      "True\n",
      "False\n"
     ]
    }
   ],
   "source": [
    "def test(x):\n",
    "    fifth_element = x[4]\n",
    "    if len(x) == 8 and x.count(fifth_element) == 3:\n",
    "        return True\n",
    "    else:\n",
    "        return False\n",
    "\n",
    "input = [[19, 19, 15, 5, 5, 5, 1, 2],\n",
    "         [19, 15, 5, 7, 5, 5, 2],\n",
    "         [11, 12, 14, 13, 14, 13, 15, 14],\n",
    "          [19, 15, 11, 7, 5, 6, 2]]\n",
    "\n",
    "for i in input:\n",
    "    print(test(i))"
   ]
  },
  {
   "attachments": {},
   "cell_type": "markdown",
   "metadata": {},
   "source": [
    "##### 3. Write a Python program that accepts an integer and determines whether it is greater than 4^4 and which is 4 mod 34\n",
    "- Input:\n",
    "922\n",
    "Output:\n",
    "True\n",
    "- Input:\n",
    "914\n",
    "Output:\n",
    "False\n",
    "- Input:\n",
    "854\n",
    "Output:\n",
    "True\n",
    "- Input:\n",
    "854\n",
    "Output:\n",
    "True\n"
   ]
  },
  {
   "cell_type": "code",
   "execution_count": 80,
   "metadata": {},
   "outputs": [
    {
     "name": "stdout",
     "output_type": "stream",
     "text": [
      "True\n",
      "False\n",
      "True\n",
      "True\n"
     ]
    }
   ],
   "source": [
    "def check_integer(num):\n",
    "    if num > 4**4 and num % 34 == 4:\n",
    "        return True\n",
    "    else:\n",
    "        return False\n",
    "\n",
    "num = [922, 914, 854, 854]\n",
    "for i in num:\n",
    "    print(check_integer(i))\n"
   ]
  },
  {
   "attachments": {},
   "cell_type": "markdown",
   "metadata": {},
   "source": [
    "##### 4. We are making n stone piles! The first pile has n stones. If n is even, then all piles have an even number of stones. If n is odd, all piles have an odd number of stones. Each pile must more stones than the previous pile but as few as possible. Write a Python program to find the number of stones in each pile.\n",
    "- Input: 2\n",
    "Output:\n",
    "[2, 4]\n",
    "- Input: 10\n",
    "Output:\n",
    "[10, 12, 14, 16, 18, 20, 22, 24, 26, 28]\n",
    "- Input: 3\n",
    "Output:\n",
    "[3, 5, 7]\n",
    "- Input: 17\n",
    "Output:\n",
    "[17, 19, 21, 23, 25, 27, 29, 31, 33, 35, 37, 39, 41, 43, 45, 47, 49]"
   ]
  },
  {
   "cell_type": "code",
   "execution_count": null,
   "metadata": {},
   "outputs": [],
   "source": []
  }
 ],
 "metadata": {
  "kernelspec": {
   "display_name": "Python 3 (ipykernel)",
   "language": "python",
   "name": "python3"
  },
  "language_info": {
   "codemirror_mode": {
    "name": "ipython",
    "version": 3
   },
   "file_extension": ".py",
   "mimetype": "text/x-python",
   "name": "python",
   "nbconvert_exporter": "python",
   "pygments_lexer": "ipython3",
   "version": "3.10.10"
  },
  "orig_nbformat": 4
 },
 "nbformat": 4,
 "nbformat_minor": 2
}
