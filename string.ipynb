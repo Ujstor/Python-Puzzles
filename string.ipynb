{
 "cells": [
  {
   "attachments": {},
   "cell_type": "markdown",
   "metadata": {},
   "source": [
    "##### 1. Write a Python program to calculate the length of a string."
   ]
  },
  {
   "cell_type": "code",
   "execution_count": 2,
   "metadata": {},
   "outputs": [
    {
     "name": "stdout",
     "output_type": "stream",
     "text": [
      "12\n"
     ]
    }
   ],
   "source": [
    "def string_len(s):\n",
    "    return len(s)\n",
    "\n",
    "print(string_len(\"hello World\"))"
   ]
  },
  {
   "attachments": {},
   "cell_type": "markdown",
   "metadata": {},
   "source": [
    "##### 2. Write a Python program to count the number of characters (character frequency) in a string.\n",
    "- Sample String : google.com'\n",
    "- Expected Result : {'g': 2, 'o': 3, 'l': 1, 'e': 1, '.': 1, 'c': 1, 'm': 1"
   ]
  },
  {
   "cell_type": "code",
   "execution_count": 16,
   "metadata": {},
   "outputs": [
    {
     "name": "stdout",
     "output_type": "stream",
     "text": [
      "{'g': 2, 'o': 3, 'l': 1, 'e': 1, '.': 1, 'c': 1, 'm': 1}\n"
     ]
    }
   ],
   "source": [
    "s = 'google.com'\n",
    "dict = {}\n",
    "\n",
    "for n in s:\n",
    "    keys = dict.keys()\n",
    "    if n in keys:\n",
    "        dict[n] += 1\n",
    "    else:\n",
    "        dict[n] = 1\n",
    "print(dict)\n"
   ]
  },
  {
   "attachments": {},
   "cell_type": "markdown",
   "metadata": {},
   "source": [
    "##### 3. Write a Python program to get a string made of the first 2 and last 2 characters of a given string. If the string length is less than 2, return the empty string instead.\n",
    "- Sample String : 'w3resource'\n",
    "Expected Result : 'w3ce'\n",
    "- Sample String : 'w3'\n",
    "Expected Result : 'w3w3'\n",
    "- Sample String : ' w'\n",
    "Expected Result : Empty String\n"
   ]
  },
  {
   "cell_type": "code",
   "execution_count": 34,
   "metadata": {},
   "outputs": [
    {
     "name": "stdout",
     "output_type": "stream",
     "text": [
      "w3ce\n",
      "w3w3\n",
      "Empty String\n"
     ]
    }
   ],
   "source": [
    "def str_strip(s):\n",
    "    if len(s.strip()) >= 2:\n",
    "        print(s[:2] + s[-2:])\n",
    "    else:\n",
    "        print(\"Empty String\")\n",
    "\n",
    "str_strip('w3resource')\n",
    "str_strip('w3')\n",
    "str_strip(' w')"
   ]
  },
  {
   "attachments": {},
   "cell_type": "markdown",
   "metadata": {},
   "source": [
    "##### 4. Write a Python program to get a string from a given string where all occurrences of its first char have been changed to '$', except the first char itself.\n",
    "- Expected Result : 'resta$t'\n",
    "- Sample String : 'restart'"
   ]
  },
  {
   "cell_type": "code",
   "execution_count": 37,
   "metadata": {},
   "outputs": [
    {
     "name": "stdout",
     "output_type": "stream",
     "text": [
      "resta$t\n"
     ]
    }
   ],
   "source": [
    "def replace_first_char(string):\n",
    "    first_char = string[0]\n",
    "    modified_string = string[1:].replace(first_char, '$')\n",
    "    return first_char + modified_string\n",
    "\n",
    "print(replace_first_char('restart'))"
   ]
  }
 ],
 "metadata": {
  "kernelspec": {
   "display_name": "Python 3 (ipykernel)",
   "language": "python",
   "name": "python3"
  },
  "language_info": {
   "codemirror_mode": {
    "name": "ipython",
    "version": 3
   },
   "file_extension": ".py",
   "mimetype": "text/x-python",
   "name": "python",
   "nbconvert_exporter": "python",
   "pygments_lexer": "ipython3",
   "version": "3.10.10"
  },
  "orig_nbformat": 4
 },
 "nbformat": 4,
 "nbformat_minor": 2
}
